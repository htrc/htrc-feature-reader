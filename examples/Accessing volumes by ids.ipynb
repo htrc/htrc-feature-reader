{
 "cells": [
  {
   "cell_type": "code",
   "execution_count": null,
   "metadata": {},
   "outputs": [],
   "source": [
    "%load_ext autoreload\n",
    "%autoreload 2"
   ]
  },
  {
   "cell_type": "code",
   "execution_count": 24,
   "metadata": {},
   "outputs": [],
   "source": [
    "import htrc_features\n",
    "import htrc_features.resolvers\n",
    "from htrc_features import Volume, resolvers, FeatureReader, caching\n",
    "import tempfile\n",
    "import os\n",
    "import json\n",
    "import logging\n",
    "from pathlib import Path"
   ]
  },
  {
   "cell_type": "markdown",
   "metadata": {},
   "source": [
    "# Why use IDs?\n",
    "\n",
    "In the new version, requesting objects by IDs is the preferred method.\n",
    "\n",
    "There are a few reasons for this.\n",
    "\n",
    "1. Compatability among machines and groups. I've often found it hard to run other people's code because it requires downloading hundreds or thousands of books, when I *already* have a full copy of the Hathi Features on one machine. Different settings will call for different optimizations; workshop users may want to temporarily download files, while HPC environments may want minimally zipped version.\n",
    "\n",
    "2. Alternate storage formats. The new version includes a parquet-based way of referring to files; reading word counts from parquets is much faster than reading from bzipped json files. Referring to IDs makes it easy to silently optimize access to parquet.\n",
    "\n",
    "## What is an ID?\n",
    "\n"
   ]
  },
  {
   "cell_type": "code",
   "execution_count": 3,
   "metadata": {},
   "outputs": [],
   "source": [
    "logging.getLogger().setLevel(logging.INFO)\n"
   ]
  },
  {
   "cell_type": "markdown",
   "metadata": {},
   "source": [
    "# Some explanations and tests for the new loading methods.\n",
    "\n",
    "This is not a comprehensive set of tests, but should provide the basics.\n",
    "\n",
    "## Loading from a path.\n",
    "\n",
    "An unnamed initial arg to 'Volume' looks at the format to see if it's an ID or a path. This looks like an ID, so reads from disk."
   ]
  },
  {
   "cell_type": "code",
   "execution_count": 4,
   "metadata": {},
   "outputs": [
    {
     "name": "stderr",
     "output_type": "stream",
     "text": [
      "WARNING:root:You have passed a single items to 'ids'or 'paths' in a FeatureReader initialization.Consider calling 'volume' directly.\n"
     ]
    },
    {
     "data": {
      "text/html": [
       "<strong><a href='http://hdl.handle.net/2027/hvd.hwrqs8'>Mr. Rutherford's children. By the authors of \"The wide, wide world,\" \"Queechy,\", \"Dollars and cents,\" etc., etc.</a></strong> by <em>Warner, Susan 1819-1885 ,Orr, John William 1815-1887 engr. ,Warner, Anna Bartlett 1824-1915 joint author. </em> (1855, 278 pages) - <code>hvd.hwrqs8</code>"
      ],
      "text/plain": [
       "<htrc_features.feature_reader.Volume at 0x7f6d6a3d8890>"
      ]
     },
     "execution_count": 4,
     "metadata": {},
     "output_type": "execute_result"
    }
   ],
   "source": [
    "project_root = Path(htrc_features.__file__).parent.parent\n",
    "pz_root = Path(project_root, \"data\", \"PZ-volumes\")\n",
    "file_path = Path(pz_root, \"hvd.hwrqs8.json.bz2\").joinpath()\n",
    "file_path = str(file_path)\n",
    "\n",
    "FeatureReader(file_path).first()"
   ]
  },
  {
   "cell_type": "code",
   "execution_count": null,
   "metadata": {},
   "outputs": [],
   "source": []
  },
  {
   "cell_type": "markdown",
   "metadata": {},
   "source": [
    "## Loading over the web\n",
    "\n",
    "This one loads from the web. There are probably more gentle defaults than re-pulling from online every time, and these should be implemented."
   ]
  },
  {
   "cell_type": "code",
   "execution_count": 5,
   "metadata": {},
   "outputs": [
    {
     "data": {
      "text/html": [
       "<strong><a href='http://hdl.handle.net/2027/hvd.hwrqs8'>Mr. Rutherford's children. By the authors of \"The wide, wide world,\" \"Queechy,\", \"Dollars and cents,\" etc., etc.</a></strong> by <em>Warner, Susan 1819-1885 ,Orr, John William 1815-1887 engr. ,Warner, Anna Bartlett 1824-1915 joint author. </em> (1855, 278 pages) - <code>hvd.hwrqs8</code>"
      ],
      "text/plain": [
       "<htrc_features.feature_reader.Volume at 0x7f6d6a3d8550>"
      ]
     },
     "execution_count": 5,
     "metadata": {},
     "output_type": "execute_result"
    }
   ],
   "source": [
    "Volume(\"hvd.hwrqs8\", id_resolver = 'http')"
   ]
  },
  {
   "cell_type": "markdown",
   "metadata": {},
   "source": [
    "## Accessing files by volume ids.\n",
    "\n",
    "That's basically the entire old method. But you may want to access local objects by their HTIDs. The simplest way to \n",
    "do that is to use the 'local' resolver, which looks in a named directory for an appropriate file. Since the default arguments are 'json' storage with 'bz2' compression, this works with three arguments."
   ]
  },
  {
   "cell_type": "code",
   "execution_count": 6,
   "metadata": {},
   "outputs": [
    {
     "data": {
      "text/html": [
       "<div>\n",
       "<style scoped>\n",
       "    .dataframe tbody tr th:only-of-type {\n",
       "        vertical-align: middle;\n",
       "    }\n",
       "\n",
       "    .dataframe tbody tr th {\n",
       "        vertical-align: top;\n",
       "    }\n",
       "\n",
       "    .dataframe thead th {\n",
       "        text-align: right;\n",
       "    }\n",
       "</style>\n",
       "<table border=\"1\" class=\"dataframe\">\n",
       "  <thead>\n",
       "    <tr style=\"text-align: right;\">\n",
       "      <th></th>\n",
       "      <th></th>\n",
       "      <th></th>\n",
       "      <th></th>\n",
       "      <th>count</th>\n",
       "    </tr>\n",
       "    <tr>\n",
       "      <th>page</th>\n",
       "      <th>section</th>\n",
       "      <th>token</th>\n",
       "      <th>pos</th>\n",
       "      <th></th>\n",
       "    </tr>\n",
       "  </thead>\n",
       "  <tbody>\n",
       "    <tr>\n",
       "      <th rowspan=\"2\" valign=\"top\">2</th>\n",
       "      <th rowspan=\"2\" valign=\"top\">body</th>\n",
       "      <th>1C</th>\n",
       "      <th>CC</th>\n",
       "      <td>1</td>\n",
       "    </tr>\n",
       "    <tr>\n",
       "      <th>i</th>\n",
       "      <th>NN</th>\n",
       "      <td>1</td>\n",
       "    </tr>\n",
       "    <tr>\n",
       "      <th rowspan=\"3\" valign=\"top\">7</th>\n",
       "      <th rowspan=\"3\" valign=\"top\">body</th>\n",
       "      <th>.</th>\n",
       "      <th>$.</th>\n",
       "      <td>1</td>\n",
       "    </tr>\n",
       "    <tr>\n",
       "      <th>CHILDREN</th>\n",
       "      <th>NE</th>\n",
       "      <td>1</td>\n",
       "    </tr>\n",
       "    <tr>\n",
       "      <th>MR</th>\n",
       "      <th>NE</th>\n",
       "      <td>1</td>\n",
       "    </tr>\n",
       "  </tbody>\n",
       "</table>\n",
       "</div>"
      ],
      "text/plain": [
       "                           count\n",
       "page section token    pos       \n",
       "2    body    1C       CC       1\n",
       "             i        NN       1\n",
       "7    body    .        $.       1\n",
       "             CHILDREN NE       1\n",
       "             MR       NE       1"
      ]
     },
     "execution_count": 6,
     "metadata": {},
     "output_type": "execute_result"
    }
   ],
   "source": [
    "vol = Volume(id = \"hvd.hwrqs8\", dir = os.path.join(pz_root), id_resolver = \"local\")\n",
    "vol.tokenlist().head(5)"
   ]
  },
  {
   "cell_type": "code",
   "execution_count": 7,
   "metadata": {},
   "outputs": [
    {
     "data": {
      "text/html": [
       "<strong><a href='http://hdl.handle.net/2027/uc2.ark:/13960/t1xd0sc6x'>Anne of Green Gables / L.M. Montgomery.</a></strong> by <em>Montgomery, L. M. (Lucy Maud) 1874-1942 </em> (1908, 414 pages) - <code>uc2.ark:/13960/t1xd0sc6x</code>"
      ],
      "text/plain": [
       "<htrc_features.feature_reader.Volume at 0x7f6d6618b350>"
      ]
     },
     "execution_count": 7,
     "metadata": {},
     "output_type": "execute_result"
    }
   ],
   "source": [
    "p = Path(htrc_features.__file__).parent.parent / 'tests/data/partialparq'\n",
    "Volume(dir = p, format = 'parquet', id='uc2.ark:/13960/t1xd0sc6x')"
   ]
  },
  {
   "cell_type": "markdown",
   "metadata": {},
   "source": [
    "## Passing arguments to resolver directly.\n",
    "\n",
    "Ordinary users will generally only interact with these classes through arguments to the Volume method. But we can also call 'LocalResolver' directly.\n",
    "\n",
    "In this example, we can use instead 'localResolver'. We say we're using json, bz2, and a folder named `../data/PZ-volumes'"
   ]
  },
  {
   "cell_type": "code",
   "execution_count": 8,
   "metadata": {},
   "outputs": [
    {
     "data": {
      "text/html": [
       "<strong><a href='http://hdl.handle.net/2027/hvd.hwrqs8'>Mr. Rutherford's children. By the authors of \"The wide, wide world,\" \"Queechy,\", \"Dollars and cents,\" etc., etc.</a></strong> by <em>Warner, Susan 1819-1885 ,Orr, John William 1815-1887 engr. ,Warner, Anna Bartlett 1824-1915 joint author. </em> (1855, 278 pages) - <code>hvd.hwrqs8</code>"
      ],
      "text/plain": [
       "<htrc_features.feature_reader.Volume at 0x7f6d661b6850>"
      ]
     },
     "execution_count": 8,
     "metadata": {},
     "output_type": "execute_result"
    }
   ],
   "source": [
    "fileholder = resolvers.LocalResolver(dir = pz_root, format = \"json\", compression = \"bz2\")\n",
    "\n",
    "locally_resolved_file = Volume(id = \"hvd.hwrqs8\", id_resolver = fileholder, format = \"json\")\n",
    "\n",
    "locally_resolved_file\n"
   ]
  },
  {
   "cell_type": "code",
   "execution_count": null,
   "metadata": {},
   "outputs": [],
   "source": []
  },
  {
   "cell_type": "markdown",
   "metadata": {},
   "source": [
    "## Passing arguments to resolver and handler directly.\n",
    "\n",
    "While HTTP fetching is currently silent, we should probably warn when that happens without an explicit request. Here's how you'd do that. Here I invoke the JsonFileHandler directly, rather than wrapping it in volume; it's unlikely an end user will ever need to do that."
   ]
  },
  {
   "cell_type": "code",
   "execution_count": 16,
   "metadata": {},
   "outputs": [
    {
     "data": {
      "text/html": [
       "<div>\n",
       "<style scoped>\n",
       "    .dataframe tbody tr th:only-of-type {\n",
       "        vertical-align: middle;\n",
       "    }\n",
       "\n",
       "    .dataframe tbody tr th {\n",
       "        vertical-align: top;\n",
       "    }\n",
       "\n",
       "    .dataframe thead th {\n",
       "        text-align: right;\n",
       "    }\n",
       "</style>\n",
       "<table border=\"1\" class=\"dataframe\">\n",
       "  <thead>\n",
       "    <tr style=\"text-align: right;\">\n",
       "      <th></th>\n",
       "      <th></th>\n",
       "      <th></th>\n",
       "      <th></th>\n",
       "      <th>count</th>\n",
       "    </tr>\n",
       "    <tr>\n",
       "      <th>page</th>\n",
       "      <th>section</th>\n",
       "      <th>token</th>\n",
       "      <th>pos</th>\n",
       "      <th></th>\n",
       "    </tr>\n",
       "  </thead>\n",
       "  <tbody>\n",
       "    <tr>\n",
       "      <th rowspan=\"2\" valign=\"top\">2</th>\n",
       "      <th rowspan=\"2\" valign=\"top\">body</th>\n",
       "      <th>1C</th>\n",
       "      <th>CC</th>\n",
       "      <td>1</td>\n",
       "    </tr>\n",
       "    <tr>\n",
       "      <th>i</th>\n",
       "      <th>NN</th>\n",
       "      <td>1</td>\n",
       "    </tr>\n",
       "    <tr>\n",
       "      <th rowspan=\"3\" valign=\"top\">7</th>\n",
       "      <th rowspan=\"3\" valign=\"top\">body</th>\n",
       "      <th>.</th>\n",
       "      <th>$.</th>\n",
       "      <td>1</td>\n",
       "    </tr>\n",
       "    <tr>\n",
       "      <th>CHILDREN</th>\n",
       "      <th>NE</th>\n",
       "      <td>1</td>\n",
       "    </tr>\n",
       "    <tr>\n",
       "      <th>MR</th>\n",
       "      <th>NE</th>\n",
       "      <td>1</td>\n",
       "    </tr>\n",
       "  </tbody>\n",
       "</table>\n",
       "</div>"
      ],
      "text/plain": [
       "                           count\n",
       "page section token    pos       \n",
       "2    body    1C       CC       1\n",
       "             i        NN       1\n",
       "7    body    .        $.       1\n",
       "             CHILDREN NE       1\n",
       "             MR       NE       1"
      ]
     },
     "execution_count": 16,
     "metadata": {},
     "output_type": "execute_result"
    }
   ],
   "source": [
    "webresolver = htrc_features.resolvers.HttpResolver(url = 'http://data.htrc.illinois.edu/htrc-ef-access/get?action=download-ids&id={id}&output=json')\n",
    "\n",
    "remote_handler = htrc_features.JsonFileHandler(id = \"hvd.hwrqs8\", id_resolver = webresolver)\n",
    "\n",
    "remote_handler._make_tokencount_df().head(5)"
   ]
  },
  {
   "cell_type": "code",
   "execution_count": null,
   "metadata": {},
   "outputs": [],
   "source": []
  },
  {
   "cell_type": "markdown",
   "metadata": {},
   "source": [
    "# Fancy zip storage\n",
    "\n",
    "When working with millions of files, some systems start to run out of inodes. Here, we build a storage using the 'ziptreeresolver' method, which assigns each file to one of 4096 zip files based on its name. Here, I'll create one in a tmpdir first. This, as a file writing operation, is a little more complicated than the above."
   ]
  },
  {
   "cell_type": "code",
   "execution_count": 20,
   "metadata": {},
   "outputs": [
    {
     "name": "stdout",
     "output_type": "stream",
     "text": [
      "None\n"
     ]
    }
   ],
   "source": []
  },
  {
   "cell_type": "code",
   "execution_count": 22,
   "metadata": {},
   "outputs": [],
   "source": [
    "sample_dir = Path(tempfile.gettempdir(), \"test_zipdir\")\n",
    "import shutil\n",
    "if sample_dir.exists():\n",
    "    shutil.rmtree(sample_dir)\n",
    "Path.mkdir(sample_dir)\n",
    "zipdir_1 = str(sample_dir)\n",
    "\n",
    "zipholder = resolvers.ZiptreeResolver(zipdir_1, format = \"json\", compression = \"bz2\")\n"
   ]
  },
  {
   "cell_type": "markdown",
   "metadata": {},
   "source": [
    "Now we'll go through the PZ-volumes folder and, for every volume, \n",
    "\n",
    "1. Grab the ID.\n",
    "2. Copy from one resolution to the other.\n",
    "\n",
    "Note that we tell the zipholder to use 'json' storage' and 'bz2' compression. The 'write' method notes the compression equivalence, and\n",
    "so doesn't waste memory compressing and uncompressing."
   ]
  },
  {
   "cell_type": "code",
   "execution_count": 25,
   "metadata": {},
   "outputs": [],
   "source": [
    "#!rm /tmp/*.zip\n",
    "\n",
    "ids = set()\n",
    "\n",
    "current_resolver = htrc_features.resolvers.LocalResolver(pz_root, format = \"json\", compression = \"bz2\")\n",
    "\n",
    "for file in os.listdir(pz_root):\n",
    "    if file.endswith(\".bz2\"):\n",
    "        id = htrc_features.utils.extract_htid(file)\n",
    "        htrc_features.caching.copy_between_resolvers(id, current_resolver, zipholder)"
   ]
  },
  {
   "cell_type": "markdown",
   "metadata": {},
   "source": [
    "This new tmpdir is filled with zipfiles. There are 4096 names, built from the first three characters of sha-1 hashes of the filenames."
   ]
  },
  {
   "cell_type": "code",
   "execution_count": 26,
   "metadata": {},
   "outputs": [
    {
     "data": {
      "text/plain": [
       "['e99.zip',\n",
       " 'd33.zip',\n",
       " '7d2.zip',\n",
       " '173.zip',\n",
       " 'e6f.zip',\n",
       " 'e14.zip',\n",
       " '553.zip',\n",
       " 'c5f.zip',\n",
       " 'e6b.zip',\n",
       " '96c.zip',\n",
       " 'a97.zip',\n",
       " '613.zip',\n",
       " '915.zip',\n",
       " '940.zip',\n",
       " 'b75.zip']"
      ]
     },
     "execution_count": 26,
     "metadata": {},
     "output_type": "execute_result"
    }
   ],
   "source": [
    "[z for z in os.listdir(zipdir_1) if z.endswith(\".zip\")]"
   ]
  },
  {
   "cell_type": "markdown",
   "metadata": {},
   "source": [
    "## Zipdir reading\n",
    "\n",
    "Now we can extract any individual file from these zipdirs"
   ]
  },
  {
   "cell_type": "code",
   "execution_count": 27,
   "metadata": {},
   "outputs": [
    {
     "data": {
      "text/html": [
       "<div>\n",
       "<style scoped>\n",
       "    .dataframe tbody tr th:only-of-type {\n",
       "        vertical-align: middle;\n",
       "    }\n",
       "\n",
       "    .dataframe tbody tr th {\n",
       "        vertical-align: top;\n",
       "    }\n",
       "\n",
       "    .dataframe thead th {\n",
       "        text-align: right;\n",
       "    }\n",
       "</style>\n",
       "<table border=\"1\" class=\"dataframe\">\n",
       "  <thead>\n",
       "    <tr style=\"text-align: right;\">\n",
       "      <th></th>\n",
       "      <th></th>\n",
       "      <th></th>\n",
       "      <th></th>\n",
       "      <th>count</th>\n",
       "    </tr>\n",
       "    <tr>\n",
       "      <th>page</th>\n",
       "      <th>section</th>\n",
       "      <th>token</th>\n",
       "      <th>pos</th>\n",
       "      <th></th>\n",
       "    </tr>\n",
       "  </thead>\n",
       "  <tbody>\n",
       "    <tr>\n",
       "      <th rowspan=\"5\" valign=\"top\">1</th>\n",
       "      <th rowspan=\"5\" valign=\"top\">body</th>\n",
       "      <th>On</th>\n",
       "      <th>IN</th>\n",
       "      <td>1</td>\n",
       "    </tr>\n",
       "    <tr>\n",
       "      <th>Serao</th>\n",
       "      <th>NN</th>\n",
       "      <td>1</td>\n",
       "    </tr>\n",
       "    <tr>\n",
       "      <th>The</th>\n",
       "      <th>DT</th>\n",
       "      <td>1</td>\n",
       "    </tr>\n",
       "    <tr>\n",
       "      <th>and</th>\n",
       "      <th>CC</th>\n",
       "      <td>1</td>\n",
       "    </tr>\n",
       "    <tr>\n",
       "      <th>ballet</th>\n",
       "      <th>NN</th>\n",
       "      <td>1</td>\n",
       "    </tr>\n",
       "    <tr>\n",
       "      <th>...</th>\n",
       "      <th>...</th>\n",
       "      <th>...</th>\n",
       "      <th>...</th>\n",
       "      <td>...</td>\n",
       "    </tr>\n",
       "    <tr>\n",
       "      <th>276</th>\n",
       "      <th>body</th>\n",
       "      <th>with</th>\n",
       "      <th>IN</th>\n",
       "      <td>1</td>\n",
       "    </tr>\n",
       "    <tr>\n",
       "      <th rowspan=\"4\" valign=\"top\">283</th>\n",
       "      <th rowspan=\"4\" valign=\"top\">body</th>\n",
       "      <th>COLLEGE</th>\n",
       "      <th>NNP</th>\n",
       "      <td>1</td>\n",
       "    </tr>\n",
       "    <tr>\n",
       "      <th>CONSERVED</th>\n",
       "      <th>VBN</th>\n",
       "      <td>1</td>\n",
       "    </tr>\n",
       "    <tr>\n",
       "      <th>HARVARD</th>\n",
       "      <th>NNP</th>\n",
       "      <td>1</td>\n",
       "    </tr>\n",
       "    <tr>\n",
       "      <th>LIBRARY</th>\n",
       "      <th>NNP</th>\n",
       "      <td>1</td>\n",
       "    </tr>\n",
       "  </tbody>\n",
       "</table>\n",
       "<p>40223 rows × 1 columns</p>\n",
       "</div>"
      ],
      "text/plain": [
       "                            count\n",
       "page section token     pos       \n",
       "1    body    On        IN       1\n",
       "             Serao     NN       1\n",
       "             The       DT       1\n",
       "             and       CC       1\n",
       "             ballet    NN       1\n",
       "...                           ...\n",
       "276  body    with      IN       1\n",
       "283  body    COLLEGE   NNP      1\n",
       "             CONSERVED VBN      1\n",
       "             HARVARD   NNP      1\n",
       "             LIBRARY   NNP      1\n",
       "\n",
       "[40223 rows x 1 columns]"
      ]
     },
     "execution_count": 27,
     "metadata": {},
     "output_type": "execute_result"
    }
   ],
   "source": [
    "Volume(\"hvd.32044010273894\", format = \"json\", compression = \"bz2\", id_resolver = \"ziptree\", dir = zipdir_1).tokenlist()"
   ]
  },
  {
   "cell_type": "code",
   "execution_count": 28,
   "metadata": {},
   "outputs": [],
   "source": [
    "zipdir = tempfile.tempdir + \"/ziptree_abc\"\n",
    "if Path(zipdir).exists():\n",
    "    shutil.rmtree(zipdir)\n",
    "\n",
    "Path(zipdir).mkdir()\n",
    "\n",
    "my_resolver = resolvers.ZiptreeResolver(zipdir, format = 'parquet')\n",
    "web_resolver = resolvers.HttpResolver()\n",
    "\n",
    "htrc_features.caching.copy_between_resolvers(\"innd.00000004583746\", web_resolver, my_resolver)\n"
   ]
  },
  {
   "cell_type": "code",
   "execution_count": 29,
   "metadata": {},
   "outputs": [
    {
     "data": {
      "text/html": [
       "<div>\n",
       "<style scoped>\n",
       "    .dataframe tbody tr th:only-of-type {\n",
       "        vertical-align: middle;\n",
       "    }\n",
       "\n",
       "    .dataframe tbody tr th {\n",
       "        vertical-align: top;\n",
       "    }\n",
       "\n",
       "    .dataframe thead th {\n",
       "        text-align: right;\n",
       "    }\n",
       "</style>\n",
       "<table border=\"1\" class=\"dataframe\">\n",
       "  <thead>\n",
       "    <tr style=\"text-align: right;\">\n",
       "      <th></th>\n",
       "      <th></th>\n",
       "      <th></th>\n",
       "      <th></th>\n",
       "      <th>count</th>\n",
       "    </tr>\n",
       "    <tr>\n",
       "      <th>page</th>\n",
       "      <th>section</th>\n",
       "      <th>token</th>\n",
       "      <th>pos</th>\n",
       "      <th></th>\n",
       "    </tr>\n",
       "  </thead>\n",
       "  <tbody>\n",
       "    <tr>\n",
       "      <th rowspan=\"5\" valign=\"top\">7</th>\n",
       "      <th rowspan=\"5\" valign=\"top\">body</th>\n",
       "      <th>\"</th>\n",
       "      <th>''</th>\n",
       "      <td>1</td>\n",
       "    </tr>\n",
       "    <tr>\n",
       "      <th>&amp;</th>\n",
       "      <th>CC</th>\n",
       "      <td>1</td>\n",
       "    </tr>\n",
       "    <tr>\n",
       "      <th>'HE</th>\n",
       "      <th>JJ</th>\n",
       "      <td>1</td>\n",
       "    </tr>\n",
       "    <tr>\n",
       "      <th>'IMORE.</th>\n",
       "      <th>.</th>\n",
       "      <td>1</td>\n",
       "    </tr>\n",
       "    <tr>\n",
       "      <th>'agmenta</th>\n",
       "      <th>.</th>\n",
       "      <td>1</td>\n",
       "    </tr>\n",
       "    <tr>\n",
       "      <th>...</th>\n",
       "      <th>...</th>\n",
       "      <th>...</th>\n",
       "      <th>...</th>\n",
       "      <td>...</td>\n",
       "    </tr>\n",
       "    <tr>\n",
       "      <th rowspan=\"2\" valign=\"top\">330</th>\n",
       "      <th rowspan=\"2\" valign=\"top\">body</th>\n",
       "      <th>wit</th>\n",
       "      <th>NN</th>\n",
       "      <td>1</td>\n",
       "    </tr>\n",
       "    <tr>\n",
       "      <th>wrangling</th>\n",
       "      <th>VBG</th>\n",
       "      <td>1</td>\n",
       "    </tr>\n",
       "    <tr>\n",
       "      <th rowspan=\"3\" valign=\"top\">335</th>\n",
       "      <th rowspan=\"3\" valign=\"top\">body</th>\n",
       "      <th>NOTREDAME</th>\n",
       "      <th>NN</th>\n",
       "      <td>1</td>\n",
       "    </tr>\n",
       "    <tr>\n",
       "      <th>UNNERSITY</th>\n",
       "      <th>NNP</th>\n",
       "      <td>1</td>\n",
       "    </tr>\n",
       "    <tr>\n",
       "      <th>c!f</th>\n",
       "      <th>NN</th>\n",
       "      <td>1</td>\n",
       "    </tr>\n",
       "  </tbody>\n",
       "</table>\n",
       "<p>59936 rows × 1 columns</p>\n",
       "</div>"
      ],
      "text/plain": [
       "                            count\n",
       "page section token     pos       \n",
       "7    body    \"         ''       1\n",
       "             &         CC       1\n",
       "             'HE       JJ       1\n",
       "             'IMORE.   .        1\n",
       "             'agmenta  .        1\n",
       "...                           ...\n",
       "330  body    wit       NN       1\n",
       "             wrangling VBG      1\n",
       "335  body    NOTREDAME NN       1\n",
       "             UNNERSITY NNP      1\n",
       "             c!f       NN       1\n",
       "\n",
       "[59936 rows x 1 columns]"
      ]
     },
     "execution_count": 29,
     "metadata": {},
     "output_type": "execute_result"
    }
   ],
   "source": [
    "Volume(\"innd.00000004583746\", id_resolver = my_resolver).tokenlist()"
   ]
  },
  {
   "cell_type": "markdown",
   "metadata": {},
   "source": [
    "### Copying between resolvers"
   ]
  },
  {
   "cell_type": "code",
   "execution_count": 30,
   "metadata": {},
   "outputs": [],
   "source": [
    "from htrc_features.caching import copy_between_resolvers"
   ]
  },
  {
   "cell_type": "markdown",
   "metadata": {},
   "source": [
    "It's possible to copy from these to some other form of resolution. In general, it's fairly easy to subclass 'IdResolver' to whatever way you might like to store files.\n",
    "\n",
    "So when you finally get fed up with pairtrees, for instance, you can use your new method here.\n",
    "\n",
    "It's generally possible to use the returned filehandles directly. You should be aware, though,\n",
    "that especially for 'write' methods on resolvers it can occasionally be tricky to handle the locations."
   ]
  },
  {
   "cell_type": "code",
   "execution_count": 31,
   "metadata": {},
   "outputs": [
    {
     "data": {
      "text/plain": [
       "b'{\"id\":\"hvd.32044010273894\",\"metadata\":{\"schemaVersion\":\"1.3\",\"dateCreated\":\"2016-06-18T21:16:55.4637562Z\",\"volumeIdentifier\":\"hvd.32044010273894\",\"accessProfile\":\"google\",\"rightsAttributes\":\"pd\",\"hathitrustRecordNumber\":\"1219987\",\"enumerationChronology\":\" \",\"sourceInstitution\":\"HVD\",\"sourceInstituti'"
      ]
     },
     "execution_count": 31,
     "metadata": {},
     "output_type": "execute_result"
    }
   ],
   "source": [
    "pairtree_resolver = resolvers.PairtreeResolver(dir = zipdir_1, format = \"json\", compression = \"bz2\")\n",
    "\n",
    "copy_between_resolvers(\"hvd.32044010273894\", resolvers.ZiptreeResolver(dir = zipdir_1, compression = \"bz2\", format=\"json\"), pairtree_resolver)\n",
    "\n",
    "pairtree_resolver.open(id = \"hvd.32044010273894\").read()[:300]"
   ]
  },
  {
   "cell_type": "markdown",
   "metadata": {},
   "source": [
    "## Resolving Parquet\n",
    "\n",
    "Parquet caches can be resolved in exactly the same way. The defaults may break more easily, though."
   ]
  },
  {
   "cell_type": "code",
   "execution_count": 32,
   "metadata": {},
   "outputs": [
    {
     "data": {
      "text/html": [
       "<strong><a href='http://hdl.handle.net/2027/mdp.39015028036104'>Russian short stories, ed. for school use,</a></strong> by <em>Schweikert, Harry Christian 1877- ed. </em> (1919, 460 pages) - <code>mdp.39015028036104</code>"
      ],
      "text/plain": [
       "<htrc_features.feature_reader.Volume at 0x7f6d651e0c90>"
      ]
     },
     "execution_count": 32,
     "metadata": {},
     "output_type": "execute_result"
    }
   ],
   "source": [
    "v = Volume(id = \"mdp.39015028036104\", dir = Path(project_root, \"data/parquet\"), format = \"parquet\", id_resolver = \"local\")\n",
    "v"
   ]
  },
  {
   "cell_type": "markdown",
   "metadata": {},
   "source": [
    "# Transferring between formats\n",
    "\n",
    "To transfer files between formats, you simply need two resolvers. The following code shows how to do do this.\n",
    "\n",
    "This code is smart enough to know that if you are copying from one bz2 file to another, it need not decompress and recompress."
   ]
  },
  {
   "cell_type": "code",
   "execution_count": 33,
   "metadata": {},
   "outputs": [],
   "source": [
    "from htrc_features.caching import copy_between_resolvers"
   ]
  },
  {
   "cell_type": "markdown",
   "metadata": {},
   "source": [
    "## 3 resolvers\n",
    "\n",
    "Here's a sort of silly example that's part of the test suite. It's easy to transition between a variety of different implementations.\n",
    "\n",
    "This simply read and copy method is the basis of methods that allow fallback searches and automatic caching."
   ]
  },
  {
   "cell_type": "code",
   "execution_count": 34,
   "metadata": {},
   "outputs": [],
   "source": [
    "with tempfile.TemporaryDirectory() as first_new_dir:\n",
    "    with tempfile.TemporaryDirectory() as second_new_dir:\n",
    "        resolver1 = htrc_features.resolvers.LocalResolver(dir = Path(project_root, \"tests\", \"data\"), format = \"json\", compression = \"bz2\")\n",
    "        resolver2 = htrc_features.resolvers.PairtreeResolver(dir = first_new_dir,  format = \"json\", compression = \"gz\")\n",
    "        resolver3 = htrc_features.resolvers.LocalResolver(dir = second_new_dir, format = \"parquet\", compression = \"snappy\")\n",
    "        \n",
    "        copy_between_resolvers(\"aeu.ark:/13960/t1rf63t52\", resolver1, resolver2)\n",
    "        copy_between_resolvers(\"aeu.ark:/13960/t1rf63t52\", resolver2, resolver3)\n",
    "        \n",
    "        all_files = []\n",
    "        for loc, dir, files in os.walk(first_new_dir):\n",
    "            for file in files:\n",
    "                all_files.append(os.path.join(loc, file))\n",
    "                \n",
    "        assert(len(all_files) == 1)\n",
    "        assert(all_files[0].endswith(\"aeu/pairtree_root/ar/k+/=1/39/60/=t/1r/f6/3t/52/ark+=13960=t1rf63t52/aeu.ark+=13960=t1rf63t52.json.gz\"))\n",
    "        \n",
    "        # Our test assertion ensures that the data has made it all the way through.\n",
    "        assert(Volume(\"aeu.ark:/13960/t1rf63t52\", id_resolver = resolver3).tokenlist()['count'].sum() == 97691)"
   ]
  },
  {
   "cell_type": "markdown",
   "metadata": {},
   "source": [
    "# Cache resolvers\n",
    "\n",
    "This logic is extended in the core library to the methods for 'cache_local', 'cache_pairtree', and 'cache_ziptree' that first look locally and then on the internet. These are implemented using a function, make_cache_resolver, that returns a new class constructor. We can make our own between any two resolvers. "
   ]
  },
  {
   "cell_type": "code",
   "execution_count": 35,
   "metadata": {},
   "outputs": [],
   "source": [
    "tmpdir = tempfile.gettempdir() + \"/neopairtree\"\n",
    "from htrc_features import caching\n",
    "CacheResolver = caching.make_fallback_resolver(resolvers.PairtreeResolver, resolvers.HttpResolver(), cache = True)\n",
    "my_resolver = CacheResolver(dir = os.path.join(tmpdir, \"new_resolution\"), format = \"json\", compression = \"gz\")"
   ]
  },
  {
   "cell_type": "code",
   "execution_count": null,
   "metadata": {},
   "outputs": [],
   "source": []
  },
  {
   "cell_type": "markdown",
   "metadata": {},
   "source": [
    "The type of the composite resolver, if you look at it, is pretty ugly! It's generated inside a stew of closures and functions."
   ]
  },
  {
   "cell_type": "code",
   "execution_count": 36,
   "metadata": {},
   "outputs": [
    {
     "data": {
      "text/plain": [
       "htrc_features.caching.make_fallback_resolver.<locals>.FallbackResolver"
      ]
     },
     "execution_count": 36,
     "metadata": {},
     "output_type": "execute_result"
    }
   ],
   "source": [
    "type(my_resolver)"
   ]
  },
  {
   "cell_type": "code",
   "execution_count": 37,
   "metadata": {},
   "outputs": [
    {
     "data": {
      "text/plain": [
       "True"
      ]
     },
     "execution_count": 37,
     "metadata": {},
     "output_type": "execute_result"
    }
   ],
   "source": [
    "isinstance(my_resolver, resolvers.IdResolver)"
   ]
  },
  {
   "cell_type": "markdown",
   "metadata": {},
   "source": [
    "But its behavior is great. You can now download automatically from Hathi. The first occasion takes a while--9 seconds--to pull from the Internet.\n"
   ]
  },
  {
   "cell_type": "code",
   "execution_count": 38,
   "metadata": {},
   "outputs": [
    {
     "name": "stdout",
     "output_type": "stream",
     "text": [
      "CPU times: user 3.34 s, sys: 136 ms, total: 3.48 s\n",
      "Wall time: 13.6 s\n"
     ]
    },
    {
     "data": {
      "text/html": [
       "<strong><a href='http://hdl.handle.net/2027/mdp.39015051692625'>Marāṭhī nāṭyakośa : nāṭaka-raṅgabhūmīvishayaka nivaḍaka māhitī deṇārā grantha / sampādana, Vi. Bhā. Deśapāṇḍe.</a></strong> by <em>Deśapāṇḍe, Vi. Bhā. (Viśvanātha Bhālacandra) 1938- </em> (2000, 1394 pages) - <code>mdp.39015051692625</code>"
      ],
      "text/plain": [
       "<htrc_features.feature_reader.Volume at 0x7f6d65f73650>"
      ]
     },
     "execution_count": 38,
     "metadata": {},
     "output_type": "execute_result"
    }
   ],
   "source": [
    "%%time\n",
    "\n",
    "Volume(id = \"mdp.39015051692625\", id_resolver = my_resolver)"
   ]
  },
  {
   "cell_type": "markdown",
   "metadata": {},
   "source": [
    "But the next one is quick! Just 500 ms."
   ]
  },
  {
   "cell_type": "code",
   "execution_count": 39,
   "metadata": {},
   "outputs": [
    {
     "name": "stdout",
     "output_type": "stream",
     "text": [
      "CPU times: user 332 ms, sys: 20 ms, total: 352 ms\n",
      "Wall time: 353 ms\n"
     ]
    },
    {
     "data": {
      "text/html": [
       "<strong><a href='http://hdl.handle.net/2027/mdp.39015051692625'>Marāṭhī nāṭyakośa : nāṭaka-raṅgabhūmīvishayaka nivaḍaka māhitī deṇārā grantha / sampādana, Vi. Bhā. Deśapāṇḍe.</a></strong> by <em>Deśapāṇḍe, Vi. Bhā. (Viśvanātha Bhālacandra) 1938- </em> (2000, 1394 pages) - <code>mdp.39015051692625</code>"
      ],
      "text/plain": [
       "<htrc_features.feature_reader.Volume at 0x7f6d6651ab10>"
      ]
     },
     "execution_count": 39,
     "metadata": {},
     "output_type": "execute_result"
    }
   ],
   "source": [
    "%%time\n",
    "\n",
    "Volume(id = \"mdp.39015051692625\", id_resolver = my_resolver)"
   ]
  },
  {
   "cell_type": "code",
   "execution_count": null,
   "metadata": {},
   "outputs": [],
   "source": []
  },
  {
   "cell_type": "code",
   "execution_count": 40,
   "metadata": {},
   "outputs": [],
   "source": [
    "newtreepath = os.path.join(tmpdir, \"new_ziptree\")\n",
    "if Path(newtreepath).exists():\n",
    "    shutil.rmtree(newtreepath)\n",
    "new_ziptree = resolvers.ZiptreeResolver(dir = newtreepath, format='parquet', mode='w')\n",
    "\n",
    "copy_between_resolvers(\"mdp.39015051692625\", my_resolver, new_ziptree)\n",
    "#copy_between_resolvers(\"mdp.39015051692625\", resolvers.HttpResolver(), zipholder)"
   ]
  },
  {
   "cell_type": "code",
   "execution_count": 41,
   "metadata": {},
   "outputs": [
    {
     "data": {
      "text/plain": [
       "'parquet'"
      ]
     },
     "execution_count": 41,
     "metadata": {},
     "output_type": "execute_result"
    }
   ],
   "source": [
    "new_ziptree.format"
   ]
  },
  {
   "cell_type": "code",
   "execution_count": 42,
   "metadata": {},
   "outputs": [
    {
     "data": {
      "text/html": [
       "<div>\n",
       "<style scoped>\n",
       "    .dataframe tbody tr th:only-of-type {\n",
       "        vertical-align: middle;\n",
       "    }\n",
       "\n",
       "    .dataframe tbody tr th {\n",
       "        vertical-align: top;\n",
       "    }\n",
       "\n",
       "    .dataframe thead th {\n",
       "        text-align: right;\n",
       "    }\n",
       "</style>\n",
       "<table border=\"1\" class=\"dataframe\">\n",
       "  <thead>\n",
       "    <tr style=\"text-align: right;\">\n",
       "      <th></th>\n",
       "      <th></th>\n",
       "      <th></th>\n",
       "      <th></th>\n",
       "      <th>count</th>\n",
       "    </tr>\n",
       "    <tr>\n",
       "      <th>page</th>\n",
       "      <th>section</th>\n",
       "      <th>token</th>\n",
       "      <th>pos</th>\n",
       "      <th></th>\n",
       "    </tr>\n",
       "  </thead>\n",
       "  <tbody>\n",
       "    <tr>\n",
       "      <th rowspan=\"5\" valign=\"top\">2</th>\n",
       "      <th rowspan=\"5\" valign=\"top\">body</th>\n",
       "      <th>\"</th>\n",
       "      <th>``</th>\n",
       "      <td>2</td>\n",
       "    </tr>\n",
       "    <tr>\n",
       "      <th>'</th>\n",
       "      <th>POS</th>\n",
       "      <td>2</td>\n",
       "    </tr>\n",
       "    <tr>\n",
       "      <th>(</th>\n",
       "      <th>-LRB-</th>\n",
       "      <td>7</td>\n",
       "    </tr>\n",
       "    <tr>\n",
       "      <th>)</th>\n",
       "      <th>-RRB-</th>\n",
       "      <td>1</td>\n",
       "    </tr>\n",
       "    <tr>\n",
       "      <th>)..</th>\n",
       "      <th>CC</th>\n",
       "      <td>1</td>\n",
       "    </tr>\n",
       "    <tr>\n",
       "      <th>...</th>\n",
       "      <th>...</th>\n",
       "      <th>...</th>\n",
       "      <th>...</th>\n",
       "      <td>...</td>\n",
       "    </tr>\n",
       "    <tr>\n",
       "      <th rowspan=\"5\" valign=\"top\">1394</th>\n",
       "      <th rowspan=\"5\" valign=\"top\">body</th>\n",
       "      <th>४</th>\n",
       "      <th>NN</th>\n",
       "      <td>2</td>\n",
       "    </tr>\n",
       "    <tr>\n",
       "      <th>६</th>\n",
       "      <th>NNP</th>\n",
       "      <td>1</td>\n",
       "    </tr>\n",
       "    <tr>\n",
       "      <th>७</th>\n",
       "      <th>NN</th>\n",
       "      <td>1</td>\n",
       "    </tr>\n",
       "    <tr>\n",
       "      <th>८</th>\n",
       "      <th>NNP</th>\n",
       "      <td>2</td>\n",
       "    </tr>\n",
       "    <tr>\n",
       "      <th>९</th>\n",
       "      <th>NN</th>\n",
       "      <td>2</td>\n",
       "    </tr>\n",
       "  </tbody>\n",
       "</table>\n",
       "<p>310594 rows × 1 columns</p>\n",
       "</div>"
      ],
      "text/plain": [
       "                          count\n",
       "page section token pos         \n",
       "2    body    \"     ``         2\n",
       "             '     POS        2\n",
       "             (     -LRB-      7\n",
       "             )     -RRB-      1\n",
       "             )..   CC         1\n",
       "...                         ...\n",
       "1394 body    ४     NN         2\n",
       "             ६     NNP        1\n",
       "             ७     NN         1\n",
       "             ८     NNP        2\n",
       "             ९     NN         2\n",
       "\n",
       "[310594 rows x 1 columns]"
      ]
     },
     "execution_count": 42,
     "metadata": {},
     "output_type": "execute_result"
    }
   ],
   "source": [
    "parquet_vol = Volume(id = \"mdp.39015051692625\", id_resolver = new_ziptree, format = \"parquet\")\n",
    "\n",
    "parquet_vol.tokenlist()"
   ]
  },
  {
   "cell_type": "code",
   "execution_count": null,
   "metadata": {},
   "outputs": [],
   "source": []
  },
  {
   "cell_type": "code",
   "execution_count": null,
   "metadata": {},
   "outputs": [],
   "source": []
  },
  {
   "cell_type": "code",
   "execution_count": 43,
   "metadata": {},
   "outputs": [
    {
     "name": "stderr",
     "output_type": "stream",
     "text": [
      "--- Logging error ---\n",
      "Traceback (most recent call last):\n",
      "  File \"/home/bschmidt/miniconda3/envs/htrc/lib/python3.7/logging/__init__.py\", line 1025, in emit\n",
      "    msg = self.format(record)\n",
      "  File \"/home/bschmidt/miniconda3/envs/htrc/lib/python3.7/logging/__init__.py\", line 869, in format\n",
      "    return fmt.format(record)\n",
      "  File \"/home/bschmidt/miniconda3/envs/htrc/lib/python3.7/logging/__init__.py\", line 608, in format\n",
      "    record.message = record.getMessage()\n",
      "  File \"/home/bschmidt/miniconda3/envs/htrc/lib/python3.7/logging/__init__.py\", line 369, in getMessage\n",
      "    msg = msg % self.args\n",
      "TypeError: not all arguments converted during string formatting\n",
      "Call stack:\n",
      "  File \"/home/bschmidt/miniconda3/envs/htrc/lib/python3.7/runpy.py\", line 193, in _run_module_as_main\n",
      "    \"__main__\", mod_spec)\n",
      "  File \"/home/bschmidt/miniconda3/envs/htrc/lib/python3.7/runpy.py\", line 85, in _run_code\n",
      "    exec(code, run_globals)\n",
      "  File \"/home/bschmidt/miniconda3/envs/htrc/lib/python3.7/site-packages/ipykernel_launcher.py\", line 16, in <module>\n",
      "    app.launch_new_instance()\n",
      "  File \"/home/bschmidt/miniconda3/envs/htrc/lib/python3.7/site-packages/traitlets/config/application.py\", line 664, in launch_instance\n",
      "    app.start()\n",
      "  File \"/home/bschmidt/miniconda3/envs/htrc/lib/python3.7/site-packages/ipykernel/kernelapp.py\", line 583, in start\n",
      "    self.io_loop.start()\n",
      "  File \"/home/bschmidt/miniconda3/envs/htrc/lib/python3.7/site-packages/tornado/platform/asyncio.py\", line 153, in start\n",
      "    self.asyncio_loop.run_forever()\n",
      "  File \"/home/bschmidt/miniconda3/envs/htrc/lib/python3.7/asyncio/base_events.py\", line 538, in run_forever\n",
      "    self._run_once()\n",
      "  File \"/home/bschmidt/miniconda3/envs/htrc/lib/python3.7/asyncio/base_events.py\", line 1782, in _run_once\n",
      "    handle._run()\n",
      "  File \"/home/bschmidt/miniconda3/envs/htrc/lib/python3.7/asyncio/events.py\", line 88, in _run\n",
      "    self._context.run(self._callback, *self._args)\n",
      "  File \"/home/bschmidt/miniconda3/envs/htrc/lib/python3.7/site-packages/tornado/ioloop.py\", line 690, in <lambda>\n",
      "    lambda f: self._run_callback(functools.partial(callback, future))\n",
      "  File \"/home/bschmidt/miniconda3/envs/htrc/lib/python3.7/site-packages/tornado/ioloop.py\", line 743, in _run_callback\n",
      "    ret = callback()\n",
      "  File \"/home/bschmidt/miniconda3/envs/htrc/lib/python3.7/site-packages/tornado/gen.py\", line 787, in inner\n",
      "    self.run()\n",
      "  File \"/home/bschmidt/miniconda3/envs/htrc/lib/python3.7/site-packages/tornado/gen.py\", line 748, in run\n",
      "    yielded = self.gen.send(value)\n",
      "  File \"/home/bschmidt/miniconda3/envs/htrc/lib/python3.7/site-packages/ipykernel/kernelbase.py\", line 377, in dispatch_queue\n",
      "    yield self.process_one()\n",
      "  File \"/home/bschmidt/miniconda3/envs/htrc/lib/python3.7/site-packages/tornado/gen.py\", line 225, in wrapper\n",
      "    runner = Runner(result, future, yielded)\n",
      "  File \"/home/bschmidt/miniconda3/envs/htrc/lib/python3.7/site-packages/tornado/gen.py\", line 714, in __init__\n",
      "    self.run()\n",
      "  File \"/home/bschmidt/miniconda3/envs/htrc/lib/python3.7/site-packages/tornado/gen.py\", line 748, in run\n",
      "    yielded = self.gen.send(value)\n",
      "  File \"/home/bschmidt/miniconda3/envs/htrc/lib/python3.7/site-packages/ipykernel/kernelbase.py\", line 361, in process_one\n",
      "    yield gen.maybe_future(dispatch(*args))\n",
      "  File \"/home/bschmidt/miniconda3/envs/htrc/lib/python3.7/site-packages/tornado/gen.py\", line 209, in wrapper\n",
      "    yielded = next(result)\n",
      "  File \"/home/bschmidt/miniconda3/envs/htrc/lib/python3.7/site-packages/ipykernel/kernelbase.py\", line 268, in dispatch_shell\n",
      "    yield gen.maybe_future(handler(stream, idents, msg))\n",
      "  File \"/home/bschmidt/miniconda3/envs/htrc/lib/python3.7/site-packages/tornado/gen.py\", line 209, in wrapper\n",
      "    yielded = next(result)\n",
      "  File \"/home/bschmidt/miniconda3/envs/htrc/lib/python3.7/site-packages/ipykernel/kernelbase.py\", line 541, in execute_request\n",
      "    user_expressions, allow_stdin,\n",
      "  File \"/home/bschmidt/miniconda3/envs/htrc/lib/python3.7/site-packages/tornado/gen.py\", line 209, in wrapper\n",
      "    yielded = next(result)\n",
      "  File \"/home/bschmidt/miniconda3/envs/htrc/lib/python3.7/site-packages/ipykernel/ipkernel.py\", line 300, in do_execute\n",
      "    res = shell.run_cell(code, store_history=store_history, silent=silent)\n",
      "  File \"/home/bschmidt/miniconda3/envs/htrc/lib/python3.7/site-packages/ipykernel/zmqshell.py\", line 536, in run_cell\n",
      "    return super(ZMQInteractiveShell, self).run_cell(*args, **kwargs)\n",
      "  File \"/home/bschmidt/miniconda3/envs/htrc/lib/python3.7/site-packages/IPython/core/interactiveshell.py\", line 2858, in run_cell\n",
      "    raw_cell, store_history, silent, shell_futures)\n",
      "  File \"/home/bschmidt/miniconda3/envs/htrc/lib/python3.7/site-packages/IPython/core/interactiveshell.py\", line 2886, in _run_cell\n",
      "    return runner(coro)\n",
      "  File \"/home/bschmidt/miniconda3/envs/htrc/lib/python3.7/site-packages/IPython/core/async_helpers.py\", line 68, in _pseudo_sync_runner\n",
      "    coro.send(None)\n",
      "  File \"/home/bschmidt/miniconda3/envs/htrc/lib/python3.7/site-packages/IPython/core/interactiveshell.py\", line 3063, in run_cell_async\n",
      "    interactivity=interactivity, compiler=compiler, result=result)\n",
      "  File \"/home/bschmidt/miniconda3/envs/htrc/lib/python3.7/site-packages/IPython/core/interactiveshell.py\", line 3254, in run_ast_nodes\n",
      "    if (await self.run_code(code, result,  async_=asy)):\n",
      "  File \"/home/bschmidt/miniconda3/envs/htrc/lib/python3.7/site-packages/IPython/core/interactiveshell.py\", line 3331, in run_code\n",
      "    exec(code_obj, self.user_global_ns, self.user_ns)\n",
      "  File \"<ipython-input-43-02049e716688>\", line 1, in <module>\n",
      "    Volume(id = \"mdp.39015051692625\", id_resolver = \"pairtree_cached_http\", dir = os.path.join(tmpdir, \"new_pairtree\"), format = \"parquet\").tokenlist()\n",
      "  File \"/home/bschmidt/Dropbox/lib/python/htrc-feature-reader/htrc_features/feature_reader.py\", line 456, in __init__\n",
      "    mode = 'rb')\n",
      "  File \"/home/bschmidt/Dropbox/lib/python/htrc-feature-reader/htrc_features/feature_reader.py\", line 356, in create_resolver\n",
      "    id_resolver = resolvers.resolver_nicknames[id_resolver]\n",
      "  File \"/home/bschmidt/Dropbox/lib/python/htrc-feature-reader/htrc_features/resolvers.py\", line 321, in __missing__\n",
      "    DeprecationWarning)\n",
      "Message: \"You're creating an exotic resolver; this is undocumentedand unspported, and may be removed in a future version\"\n",
      "Arguments: (<class 'DeprecationWarning'>,)\n"
     ]
    },
    {
     "data": {
      "text/html": [
       "<div>\n",
       "<style scoped>\n",
       "    .dataframe tbody tr th:only-of-type {\n",
       "        vertical-align: middle;\n",
       "    }\n",
       "\n",
       "    .dataframe tbody tr th {\n",
       "        vertical-align: top;\n",
       "    }\n",
       "\n",
       "    .dataframe thead th {\n",
       "        text-align: right;\n",
       "    }\n",
       "</style>\n",
       "<table border=\"1\" class=\"dataframe\">\n",
       "  <thead>\n",
       "    <tr style=\"text-align: right;\">\n",
       "      <th></th>\n",
       "      <th></th>\n",
       "      <th></th>\n",
       "      <th></th>\n",
       "      <th>count</th>\n",
       "    </tr>\n",
       "    <tr>\n",
       "      <th>page</th>\n",
       "      <th>section</th>\n",
       "      <th>token</th>\n",
       "      <th>pos</th>\n",
       "      <th></th>\n",
       "    </tr>\n",
       "  </thead>\n",
       "  <tbody>\n",
       "    <tr>\n",
       "      <th rowspan=\"5\" valign=\"top\">2</th>\n",
       "      <th rowspan=\"5\" valign=\"top\">body</th>\n",
       "      <th>\"</th>\n",
       "      <th>``</th>\n",
       "      <td>2</td>\n",
       "    </tr>\n",
       "    <tr>\n",
       "      <th>'</th>\n",
       "      <th>POS</th>\n",
       "      <td>2</td>\n",
       "    </tr>\n",
       "    <tr>\n",
       "      <th>(</th>\n",
       "      <th>-LRB-</th>\n",
       "      <td>7</td>\n",
       "    </tr>\n",
       "    <tr>\n",
       "      <th>)</th>\n",
       "      <th>-RRB-</th>\n",
       "      <td>1</td>\n",
       "    </tr>\n",
       "    <tr>\n",
       "      <th>)..</th>\n",
       "      <th>CC</th>\n",
       "      <td>1</td>\n",
       "    </tr>\n",
       "    <tr>\n",
       "      <th>...</th>\n",
       "      <th>...</th>\n",
       "      <th>...</th>\n",
       "      <th>...</th>\n",
       "      <td>...</td>\n",
       "    </tr>\n",
       "    <tr>\n",
       "      <th rowspan=\"5\" valign=\"top\">1394</th>\n",
       "      <th rowspan=\"5\" valign=\"top\">body</th>\n",
       "      <th>४</th>\n",
       "      <th>NN</th>\n",
       "      <td>2</td>\n",
       "    </tr>\n",
       "    <tr>\n",
       "      <th>६</th>\n",
       "      <th>NNP</th>\n",
       "      <td>1</td>\n",
       "    </tr>\n",
       "    <tr>\n",
       "      <th>७</th>\n",
       "      <th>NN</th>\n",
       "      <td>1</td>\n",
       "    </tr>\n",
       "    <tr>\n",
       "      <th>८</th>\n",
       "      <th>NNP</th>\n",
       "      <td>2</td>\n",
       "    </tr>\n",
       "    <tr>\n",
       "      <th>९</th>\n",
       "      <th>NN</th>\n",
       "      <td>2</td>\n",
       "    </tr>\n",
       "  </tbody>\n",
       "</table>\n",
       "<p>310594 rows × 1 columns</p>\n",
       "</div>"
      ],
      "text/plain": [
       "                          count\n",
       "page section token pos         \n",
       "2    body    \"     ``         2\n",
       "             '     POS        2\n",
       "             (     -LRB-      7\n",
       "             )     -RRB-      1\n",
       "             )..   CC         1\n",
       "...                         ...\n",
       "1394 body    ४     NN         2\n",
       "             ६     NNP        1\n",
       "             ७     NN         1\n",
       "             ८     NNP        2\n",
       "             ९     NN         2\n",
       "\n",
       "[310594 rows x 1 columns]"
      ]
     },
     "execution_count": 43,
     "metadata": {},
     "output_type": "execute_result"
    }
   ],
   "source": [
    "Volume(id = \"mdp.39015051692625\", id_resolver = \"pairtree_cached_http\", dir = os.path.join(tmpdir, \"new_pairtree\"), format = \"parquet\").tokenlist()"
   ]
  },
  {
   "cell_type": "code",
   "execution_count": 44,
   "metadata": {},
   "outputs": [],
   "source": [
    "z = tempfile.TemporaryDirectory()"
   ]
  },
  {
   "cell_type": "code",
   "execution_count": 45,
   "metadata": {},
   "outputs": [
    {
     "data": {
      "text/plain": [
       "PosixPath('/home/bschmidt/Dropbox/lib/python/htrc-feature-reader/tests/data/green-gables-15pages.json')"
      ]
     },
     "execution_count": 45,
     "metadata": {},
     "output_type": "execute_result"
    }
   ],
   "source": [
    "from pathlib import Path\n",
    "Path(project_root, \"tests\", \"data\").iterdir().__next__()"
   ]
  },
  {
   "cell_type": "code",
   "execution_count": 46,
   "metadata": {},
   "outputs": [
    {
     "data": {
      "text/html": [
       "<strong><a href='http://hdl.handle.net/2027/uc2.ark:/13960/t1xd0sc6x'>Anne of Green Gables / L.M. Montgomery.</a></strong> by <em>Montgomery, L. M. (Lucy Maud) 1874-1942 </em> (1908, 414 pages) - <code>uc2.ark:/13960/t1xd0sc6x</code>"
      ],
      "text/plain": [
       "<htrc_features.feature_reader.Volume at 0x7f6d66384a10>"
      ]
     },
     "execution_count": 46,
     "metadata": {},
     "output_type": "execute_result"
    }
   ],
   "source": [
    "Volume(Path(project_root, 'tests/data/green-gables-15pages.json').__str__(), compression = None)"
   ]
  },
  {
   "cell_type": "code",
   "execution_count": 47,
   "metadata": {},
   "outputs": [],
   "source": [
    "resolver2 = htrc_features.resolvers.IdResolver(dir = \".\", format = \"parquet\", compression = \"snappy\")\n",
    "\n",
    "# Don't use compression in the name\n",
    "testname = resolver2.fname(\"mdp.12345\", format = \"parquet\", compression = \"snappy\", suffix = \"tokens\")\n",
    "assert(testname == \"mdp.12345.tokens.parquet\")\n"
   ]
  },
  {
   "cell_type": "markdown",
   "metadata": {},
   "source": [
    "# Custom configurations\n",
    "\n",
    "You can build up resolvers of any length using this\n",
    "\n",
    "One convenient way to do so may be to manage configurations using yaml.\n",
    "\n",
    "For example, I have the following in ~/.ef-files.yaml.\n",
    "\n",
    "The YAML list is, simply, a set of arguments to resolvers.\n",
    "\n",
    "1. First I look in a gzip parquet ziptree at /drobo/hathi_ziptree\n",
    "2. Then I look in the bz2, json feature counts at /drobo/feature-counts. These will be slower, but more complete.\n",
    "3. Finally, it it's in neither of those places, I go to Hathi's website.\n",
    "\n",
    "When it's found, I cache to the parquet ziptree; but **not** to the local file. "
   ]
  },
  {
   "cell_type": "code",
   "execution_count": 48,
   "metadata": {},
   "outputs": [
    {
     "data": {
      "text/html": [
       "<div>\n",
       "<style scoped>\n",
       "    .dataframe tbody tr th:only-of-type {\n",
       "        vertical-align: middle;\n",
       "    }\n",
       "\n",
       "    .dataframe tbody tr th {\n",
       "        vertical-align: top;\n",
       "    }\n",
       "\n",
       "    .dataframe thead th {\n",
       "        text-align: right;\n",
       "    }\n",
       "</style>\n",
       "<table border=\"1\" class=\"dataframe\">\n",
       "  <thead>\n",
       "    <tr style=\"text-align: right;\">\n",
       "      <th></th>\n",
       "      <th></th>\n",
       "      <th>count</th>\n",
       "    </tr>\n",
       "    <tr>\n",
       "      <th>page</th>\n",
       "      <th>token</th>\n",
       "      <th></th>\n",
       "    </tr>\n",
       "  </thead>\n",
       "  <tbody>\n",
       "    <tr>\n",
       "      <th>3</th>\n",
       "      <th>■^^w^Hm</th>\n",
       "      <td>1</td>\n",
       "    </tr>\n",
       "    <tr>\n",
       "      <th rowspan=\"4\" valign=\"top\">5</th>\n",
       "      <th>,</th>\n",
       "      <td>1</td>\n",
       "    </tr>\n",
       "    <tr>\n",
       "      <th>16-December</th>\n",
       "      <td>1</td>\n",
       "    </tr>\n",
       "    <tr>\n",
       "      <th>1972</th>\n",
       "      <td>1</td>\n",
       "    </tr>\n",
       "    <tr>\n",
       "      <th>2</th>\n",
       "      <td>1</td>\n",
       "    </tr>\n",
       "    <tr>\n",
       "      <th>...</th>\n",
       "      <th>...</th>\n",
       "      <td>...</td>\n",
       "    </tr>\n",
       "    <tr>\n",
       "      <th rowspan=\"5\" valign=\"top\">393</th>\n",
       "      <th>4786</th>\n",
       "      <td>1</td>\n",
       "    </tr>\n",
       "    <tr>\n",
       "      <th>9015</th>\n",
       "      <td>1</td>\n",
       "    </tr>\n",
       "    <tr>\n",
       "      <th>MICHIGAN</th>\n",
       "      <td>1</td>\n",
       "    </tr>\n",
       "    <tr>\n",
       "      <th>OF</th>\n",
       "      <td>1</td>\n",
       "    </tr>\n",
       "    <tr>\n",
       "      <th>UNIVERSITY</th>\n",
       "      <td>1</td>\n",
       "    </tr>\n",
       "  </tbody>\n",
       "</table>\n",
       "<p>71223 rows × 1 columns</p>\n",
       "</div>"
      ],
      "text/plain": [
       "                  count\n",
       "page token             \n",
       "3    ■^^w^Hm          1\n",
       "5    ,                1\n",
       "     16-December      1\n",
       "     1972             1\n",
       "     2                1\n",
       "...                 ...\n",
       "393  4786             1\n",
       "     9015             1\n",
       "     MICHIGAN         1\n",
       "     OF               1\n",
       "     UNIVERSITY       1\n",
       "\n",
       "[71223 rows x 1 columns]"
      ]
     },
     "execution_count": 48,
     "metadata": {},
     "output_type": "execute_result"
    }
   ],
   "source": [
    "import yaml\n",
    "s = \"\"\"\n",
    "-\n",
    "  id_resolver: local\n",
    "  dir: /tmp/loc\n",
    "  format: parquet\n",
    "  compression: gzip\n",
    "  token_kwargs:\n",
    "    drop_section: true\n",
    "    sections: body\n",
    "    pos: false\n",
    "-\n",
    "  id_resolver: pairtree\n",
    "  dir: /drobo/feature-counts\n",
    "  format: json\n",
    "  compression: bz2\n",
    "  cache: false\n",
    "-\n",
    "  format: json\n",
    "  compression: null\n",
    "  id_resolver: \"http\"\n",
    "\"\"\"\n",
    "\n",
    "config = yaml.load(s, yaml.SafeLoader)\n",
    "p = Path(config[0]['dir'])\n",
    "if p.exists():\n",
    "    shutil.rmtree(p)\n",
    "p.mkdir()\n",
    "\n",
    "def resolver_factory(id_resolver, **kwargs):\n",
    "    return htrc_features.resolvers.resolver_nicknames[id_resolver](**kwargs)\n",
    "\n",
    "def combine_resolvers(l):\n",
    "    assert(len(l) >= 2)\n",
    "    first = l[0]\n",
    "    rest = l[1:]\n",
    "    if len(rest) > 1:\n",
    "        second_choice = combine_resolvers(rest)\n",
    "    else:\n",
    "        second_choice = resolver_factory(**rest[0])\n",
    "    with_fallback = caching.make_fallback_resolver(first['id_resolver'], second_choice, cache = first.get(\"cache\", True))\n",
    "    del first['id_resolver']\n",
    "    return with_fallback(**first)\n",
    "\n",
    "\n",
    "\n",
    "bens_resolver = combine_resolvers(config)\n",
    "Volume(id=\"mdp.39015012434786\", id_resolver = bens_resolver).tokenlist(pos=False, section=\"default\")"
   ]
  },
  {
   "cell_type": "code",
   "execution_count": 49,
   "metadata": {},
   "outputs": [
    {
     "name": "stdout",
     "output_type": "stream",
     "text": [
      "{'id_resolver': 'local', 'dir': '/tmp/loc', 'format': 'parquet', 'compression': 'gzip', 'token_kwargs': {'drop_section': True, 'sections': 'body', 'pos': False}}\n",
      "{'id_resolver': 'pairtree', 'dir': '/drobo/feature-counts', 'format': 'json', 'compression': 'bz2', 'cache': False}\n",
      "{'format': 'json', 'compression': None, 'id_resolver': 'http'}\n"
     ]
    }
   ],
   "source": [
    "def separate_resolvers(l):\n",
    "    out = []\n",
    "    for elem in l:\n",
    "        print (elem)\n",
    "        r = htrc_features.resolvers.resolver_nicknames[elem['id_resolver']](**elem)\n",
    "        out.append(\n",
    "        r\n",
    "        )\n",
    "    return out\n",
    "config = yaml.load(s, yaml.SafeLoader)\n",
    "\n",
    "components = separate_resolvers(config)\n"
   ]
  },
  {
   "cell_type": "code",
   "execution_count": 50,
   "metadata": {},
   "outputs": [
    {
     "ename": "MissingFieldError",
     "evalue": "Your internal tokenlist representation does not have enough information for the current args. Missing column: pos",
     "output_type": "error",
     "traceback": [
      "\u001b[0;31m--------------------------------------------------------------------\u001b[0m",
      "\u001b[0;31mMissingFieldError\u001b[0m                  Traceback (most recent call last)",
      "\u001b[0;32m<ipython-input-50-c70ba4b1caba>\u001b[0m in \u001b[0;36m<module>\u001b[0;34m\u001b[0m\n\u001b[0;32m----> 1\u001b[0;31m \u001b[0mVolume\u001b[0m\u001b[0;34m(\u001b[0m\u001b[0mid\u001b[0m\u001b[0;34m=\u001b[0m\u001b[0;34m\"mdp.39015012434786\"\u001b[0m\u001b[0;34m,\u001b[0m \u001b[0mid_resolver\u001b[0m \u001b[0;34m=\u001b[0m \u001b[0mbens_resolver\u001b[0m\u001b[0;34m)\u001b[0m\u001b[0;34m.\u001b[0m\u001b[0mtokenlist\u001b[0m\u001b[0;34m(\u001b[0m\u001b[0;34m)\u001b[0m\u001b[0;34m\u001b[0m\u001b[0;34m\u001b[0m\u001b[0m\n\u001b[0m",
      "\u001b[0;32m~/Dropbox/lib/python/htrc-feature-reader/htrc_features/feature_reader.py\u001b[0m in \u001b[0;36mtokenlist\u001b[0;34m(self, pages, section, case, pos, page_freq, page_select, drop_section, htid, chunk, overflow_strategy, chunk_target, **kwargs)\u001b[0m\n\u001b[1;32m    707\u001b[0m                 raise MissingFieldError(\"Your internal tokenlist representation does not have \"\n\u001b[1;32m    708\u001b[0m                                         \u001b[0;34m\"enough information for the current args. Missing \"\u001b[0m\u001b[0;34m\u001b[0m\u001b[0;34m\u001b[0m\u001b[0m\n\u001b[0;32m--> 709\u001b[0;31m                                         \"column: %s\" % column)\n\u001b[0m\u001b[1;32m    710\u001b[0m \u001b[0;34m\u001b[0m\u001b[0m\n\u001b[1;32m    711\u001b[0m         \u001b[0;32mif\u001b[0m \u001b[0mpage_select\u001b[0m\u001b[0;34m:\u001b[0m\u001b[0;34m\u001b[0m\u001b[0;34m\u001b[0m\u001b[0m\n",
      "\u001b[0;31mMissingFieldError\u001b[0m: Your internal tokenlist representation does not have enough information for the current args. Missing column: pos"
     ]
    }
   ],
   "source": [
    "Volume(id=\"mdp.39015012434786\", id_resolver = bens_resolver).tokenlist()"
   ]
  },
  {
   "cell_type": "code",
   "execution_count": 51,
   "metadata": {},
   "outputs": [
    {
     "data": {
      "text/html": [
       "<div>\n",
       "<style scoped>\n",
       "    .dataframe tbody tr th:only-of-type {\n",
       "        vertical-align: middle;\n",
       "    }\n",
       "\n",
       "    .dataframe tbody tr th {\n",
       "        vertical-align: top;\n",
       "    }\n",
       "\n",
       "    .dataframe thead th {\n",
       "        text-align: right;\n",
       "    }\n",
       "</style>\n",
       "<table border=\"1\" class=\"dataframe\">\n",
       "  <thead>\n",
       "    <tr style=\"text-align: right;\">\n",
       "      <th></th>\n",
       "      <th></th>\n",
       "      <th>count</th>\n",
       "    </tr>\n",
       "    <tr>\n",
       "      <th>page</th>\n",
       "      <th>token</th>\n",
       "      <th></th>\n",
       "    </tr>\n",
       "  </thead>\n",
       "  <tbody>\n",
       "    <tr>\n",
       "      <th>3</th>\n",
       "      <th>■^^w^Hm</th>\n",
       "      <td>1</td>\n",
       "    </tr>\n",
       "    <tr>\n",
       "      <th rowspan=\"4\" valign=\"top\">5</th>\n",
       "      <th>,</th>\n",
       "      <td>1</td>\n",
       "    </tr>\n",
       "    <tr>\n",
       "      <th>16-December</th>\n",
       "      <td>1</td>\n",
       "    </tr>\n",
       "    <tr>\n",
       "      <th>1972</th>\n",
       "      <td>1</td>\n",
       "    </tr>\n",
       "    <tr>\n",
       "      <th>2</th>\n",
       "      <td>1</td>\n",
       "    </tr>\n",
       "    <tr>\n",
       "      <th>...</th>\n",
       "      <th>...</th>\n",
       "      <td>...</td>\n",
       "    </tr>\n",
       "    <tr>\n",
       "      <th rowspan=\"5\" valign=\"top\">393</th>\n",
       "      <th>4786</th>\n",
       "      <td>1</td>\n",
       "    </tr>\n",
       "    <tr>\n",
       "      <th>9015</th>\n",
       "      <td>1</td>\n",
       "    </tr>\n",
       "    <tr>\n",
       "      <th>MICHIGAN</th>\n",
       "      <td>1</td>\n",
       "    </tr>\n",
       "    <tr>\n",
       "      <th>OF</th>\n",
       "      <td>1</td>\n",
       "    </tr>\n",
       "    <tr>\n",
       "      <th>UNIVERSITY</th>\n",
       "      <td>1</td>\n",
       "    </tr>\n",
       "  </tbody>\n",
       "</table>\n",
       "<p>71223 rows × 1 columns</p>\n",
       "</div>"
      ],
      "text/plain": [
       "                  count\n",
       "page token             \n",
       "3    ■^^w^Hm          1\n",
       "5    ,                1\n",
       "     16-December      1\n",
       "     1972             1\n",
       "     2                1\n",
       "...                 ...\n",
       "393  4786             1\n",
       "     9015             1\n",
       "     MICHIGAN         1\n",
       "     OF               1\n",
       "     UNIVERSITY       1\n",
       "\n",
       "[71223 rows x 1 columns]"
      ]
     },
     "execution_count": 51,
     "metadata": {},
     "output_type": "execute_result"
    }
   ],
   "source": [
    "import pandas as pd\n",
    "#Volume('mdp.39015012434786', id_resolver = components[0]).tokenlist()\n",
    "copy_between_resolvers('mdp.39015012434786', components[1], components[0])\n",
    "\n",
    "pd.read_parquet(p / \"mdp.39015012434786.tokens.parquet\")"
   ]
  },
  {
   "cell_type": "code",
   "execution_count": 52,
   "metadata": {},
   "outputs": [
    {
     "data": {
      "text/html": [
       "<div>\n",
       "<style scoped>\n",
       "    .dataframe tbody tr th:only-of-type {\n",
       "        vertical-align: middle;\n",
       "    }\n",
       "\n",
       "    .dataframe tbody tr th {\n",
       "        vertical-align: top;\n",
       "    }\n",
       "\n",
       "    .dataframe thead th {\n",
       "        text-align: right;\n",
       "    }\n",
       "</style>\n",
       "<table border=\"1\" class=\"dataframe\">\n",
       "  <thead>\n",
       "    <tr style=\"text-align: right;\">\n",
       "      <th></th>\n",
       "      <th></th>\n",
       "      <th>count</th>\n",
       "    </tr>\n",
       "    <tr>\n",
       "      <th>chunk</th>\n",
       "      <th>token</th>\n",
       "      <th></th>\n",
       "    </tr>\n",
       "  </thead>\n",
       "  <tbody>\n",
       "    <tr>\n",
       "      <th rowspan=\"5\" valign=\"top\">1</th>\n",
       "      <th>!</th>\n",
       "      <td>3</td>\n",
       "    </tr>\n",
       "    <tr>\n",
       "      <th>\"</th>\n",
       "      <td>66</td>\n",
       "    </tr>\n",
       "    <tr>\n",
       "      <th>'S</th>\n",
       "      <td>1</td>\n",
       "    </tr>\n",
       "    <tr>\n",
       "      <th>'ll</th>\n",
       "      <td>6</td>\n",
       "    </tr>\n",
       "    <tr>\n",
       "      <th>'m</th>\n",
       "      <td>1</td>\n",
       "    </tr>\n",
       "    <tr>\n",
       "      <th>...</th>\n",
       "      <th>...</th>\n",
       "      <td>...</td>\n",
       "    </tr>\n",
       "    <tr>\n",
       "      <th rowspan=\"5\" valign=\"top\">16</th>\n",
       "      <th>yugas</th>\n",
       "      <td>1</td>\n",
       "    </tr>\n",
       "    <tr>\n",
       "      <th>—</th>\n",
       "      <td>1</td>\n",
       "    </tr>\n",
       "    <tr>\n",
       "      <th>—devotion</th>\n",
       "      <td>1</td>\n",
       "    </tr>\n",
       "    <tr>\n",
       "      <th>—supracausal</th>\n",
       "      <td>1</td>\n",
       "    </tr>\n",
       "    <tr>\n",
       "      <th>•</th>\n",
       "      <td>1</td>\n",
       "    </tr>\n",
       "  </tbody>\n",
       "</table>\n",
       "<p>27070 rows × 1 columns</p>\n",
       "</div>"
      ],
      "text/plain": [
       "                    count\n",
       "chunk token              \n",
       "1     !                 3\n",
       "      \"                66\n",
       "      'S                1\n",
       "      'll               6\n",
       "      'm                1\n",
       "...                   ...\n",
       "16    yugas             1\n",
       "      —                 1\n",
       "      —devotion         1\n",
       "      —supracausal      1\n",
       "      •                 1\n",
       "\n",
       "[27070 rows x 1 columns]"
      ]
     },
     "execution_count": 52,
     "metadata": {},
     "output_type": "execute_result"
    }
   ],
   "source": [
    "Volume('mdp.39015012434786', id_resolver = components[1]).tokenlist(chunk = True, pos=False, drop_section= True)"
   ]
  },
  {
   "cell_type": "code",
   "execution_count": null,
   "metadata": {},
   "outputs": [],
   "source": []
  }
 ],
 "metadata": {
  "kernelspec": {
   "display_name": "Python 3",
   "language": "python",
   "name": "python3"
  },
  "language_info": {
   "codemirror_mode": {
    "name": "ipython",
    "version": 3
   },
   "file_extension": ".py",
   "mimetype": "text/x-python",
   "name": "python",
   "nbconvert_exporter": "python",
   "pygments_lexer": "ipython3",
   "version": "3.6.7"
  }
 },
 "nbformat": 4,
 "nbformat_minor": 4
}
